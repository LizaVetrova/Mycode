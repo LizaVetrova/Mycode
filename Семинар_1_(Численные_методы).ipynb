{
  "nbformat": 4,
  "nbformat_minor": 0,
  "metadata": {
    "colab": {
      "provenance": []
    },
    "kernelspec": {
      "name": "python3",
      "display_name": "Python 3"
    },
    "language_info": {
      "name": "python"
    }
  },
  "cells": [
    {
      "cell_type": "code",
      "source": [
        "def div_mult_approx_numbers(numbers):\n",
        "    x = min(numbers, key=lambda x: len(str(x).rstrip('0')))\n",
        "    y = int(str(x).split('.')[1] if '.' in str(x) else '')\n",
        "    print(x,y)\n",
        "\n",
        "    rounded_numbers = [round(num, y + 1) for num in numbers]\n",
        "    print(rounded_numbers)\n",
        "    result = rounded_numbers[0]\n",
        "    result_2 = rounded_numbers[0]\n",
        "    for num in rounded_numbers[1:]:\n",
        "        result *= num\n",
        "\n",
        "    for num in rounded_numbers[1:]:\n",
        "        result_2 = result_2 / num\n",
        "\n",
        "    result_str = format(result, f\".{y}f\")\n",
        "    result_str_2 = format(result_2, f\".{y}f\")\n",
        "\n",
        "\n",
        "    return float(result_str), float(result_str_2)\n",
        "\n",
        "numbers = [3.28, 2.71828, 1.2]\n",
        "result = div_mult_approx_numbers(numbers)\n",
        "print(result)\n",
        "\n"
      ],
      "metadata": {
        "colab": {
          "base_uri": "https://localhost:8080/"
        },
        "id": "QbdEh4CM1sy9",
        "outputId": "d7985fa5-50c0-4707-b298-1c27d3d17438"
      },
      "execution_count": 13,
      "outputs": [
        {
          "output_type": "stream",
          "name": "stdout",
          "text": [
            "1.2 2\n",
            "[3.28, 2.718, 1.2]\n",
            "(10.7, 1.01)\n"
          ]
        }
      ]
    }
  ]
}